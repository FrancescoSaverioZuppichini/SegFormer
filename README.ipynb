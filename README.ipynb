{
 "cells": [
  {
   "cell_type": "markdown",
   "metadata": {},
   "source": [
    "# Implementing SegFormer in PyTorch\n",
    "*A fast, efficient, and lightweight model for image segmentation*\n",
    "\n",
    "Hello There!! Today we'll see how to implement SegFormer in PyTorch proposed in [SegFormer: Simple and Efficient Design for Semantic Segmentation with Transformers](https://arxiv.org/abs/2105.15203).\n",
    "\n",
    "Code is here, an interactive version of this article can be downloaded from here.\n",
    "\n",
    "Let's get started!\n",
    "\n",
    "The paper proposes a new transformer-based model to tackle image segmentation. Even if \"transformer\" is nowadays a buzzword, and the model itself only has the basic attention mechanism. This model has two main advantages, first *SegFormer comprises a novel hierarchically structured Transformer encoder which outputs multiscale\n",
    "features*. Then, *It does not need positional encoding, thereby avoiding the interpolation of\n",
    "positional codes which leads to decreased performance when the testing resolution differs from training*. \n",
    "\n",
    "Funny enough, we are going backward in research, these two advantages are present in convnets since the beginning and we'll see that SegFormer, in the end, is just a convnet + attention.\n",
    "\n",
    "The following picture shows SegFormer's performance against the different models/sizes on ADE20K dataset, they have **sota**.\n",
    "\n",
    "<img src=\"./images/results.png\" width=\"500px\"></img>\n",
    "\n",
    "It's better than the old good FCN-R50 and it's 2x faster. Since it has 24 fewer FLOPS I am wondering why it's only double as fast.\n",
    "\n",
    "## Architecture\n",
    "\n",
    "The model is a classic encoder-decoder/backbone-neck. A head is attached to predict the final segmentation mask. \n",
    "\n",
    "<img src=\"./images/architecture.png\"></img>\n",
    "\n",
    "We are going to implement it in a bottom-up approach, starting from the lowest module inside the decoder. \n",
    "\n",
    "**The image in the paper is wrong** 🤦, I don't understand why any reviewers pointed that out, maybe I am wrong. In the official [implementation](https://github.com/NVlabs/SegFormer/blob/master/mmseg/models/backbones/mix_transformer.py) there isn't a first patch embedding. The overlapping patch merging block (the purple one) should be before the Self-Efficient Attention block.\n",
    "\n",
    "Here's what it should look like:\n",
    "\n",
    "<img src=\"./images/architecture_fixed.png\"></img>\n",
    "\n",
    "With a little photoshop\n",
    "\n",
    "<img src=\"./images/BlockCorrect.png\"></img>\n",
    "\n",
    "\n",
    "See the code [here](https://github.com/NVlabs/SegFormer/blob/9454025f0e74acbbc19c65cbbdf3ff8224997fe3/mmseg/models/backbones/mix_transformer.py#L318)\n",
    "\n",
    "### Decoder\n",
    "\n",
    "The Decoder used is called `MixVisionTransformer` (`MiT`), another `ViT` with some random stuff in the middle, we will call it `SegFormerDecoder`. Let's start with the first individual component of the block itself, `OverlapPatchMerging`.\n",
    "\n",
    "#### OverlapPatchMerging\n",
    "\n",
    "<img src=\"./images/OverlapPatchMerging.png\"></img>\n",
    "\n",
    "The `OverlapPatchMerging` block can be implemented with a convolution layer with a `stride` less than the `kernel_size`, so it overlaps different patches. It's the same thing proposed years ago when you use a `stride` greater than one to reduce the input's spatial dimension. In `SegFormer`, the conv layer is followed by a layer norm.\n",
    "\n",
    "Since `nn.LayerNorm` in PyTorch works for tensors of shape `batch, ...., channels`, we can create a `LayerNorm2d` that first swaps the `channels` axis with the last one, then applies layer norm, and swaps it back. I'll use [`einops`](https://github.com/arogozhnikov/einops) to make the code more readable\n",
    "\n"
   ]
  },
  {
   "cell_type": "code",
   "execution_count": 1,
   "metadata": {},
   "outputs": [],
   "source": [
    "import torch\n",
    "from einops import rearrange\n",
    "from torch import nn\n",
    "\n",
    "class LayerNorm2d(nn.LayerNorm):\n",
    "    def forward(self, x):\n",
    "        x = rearrange(x, \"b c h w -> b h w c\")\n",
    "        x = super().forward(x)\n",
    "        x = rearrange(x, \"b h w c -> b c h w\")\n",
    "        return x"
   ]
  },
  {
   "cell_type": "markdown",
   "metadata": {},
   "source": [
    "Then our `OverlapPatchMerging` is just a conv layer followed by our layer norm"
   ]
  },
  {
   "cell_type": "code",
   "execution_count": 2,
   "metadata": {},
   "outputs": [],
   "source": [
    "class OverlapPatchMerging(nn.Sequential):\n",
    "    def __init__(\n",
    "        self, in_channels: int, out_channels: int, patch_size: int, overlap_size: int\n",
    "    ):\n",
    "        super().__init__(\n",
    "            nn.Conv2d(\n",
    "                in_channels,\n",
    "                out_channels,\n",
    "                kernel_size=patch_size,\n",
    "                stride=overlap_size,\n",
    "                padding=patch_size // 2,\n",
    "                bias=False\n",
    "            ),\n",
    "            LayerNorm2d(out_channels)\n",
    "        )"
   ]
  },
  {
   "cell_type": "markdown",
   "metadata": {},
   "source": [
    "#### Efficient Self Attention\n",
    "\n",
    "<img src=\"./images/EfficientSelfAttention.png\"></img>\n",
    "\n",
    "We all know attention has a square complexity `O(N^2)` where `N=H*W` in our case. We can reduce `N` by a factor of `R`, the complexity becomes `O(N^2/R)`. One easy way is to flat the spatial dimension and use a linear layer. "
   ]
  },
  {
   "cell_type": "code",
   "execution_count": 3,
   "metadata": {},
   "outputs": [],
   "source": [
    "r = 4\n",
    "channels = 8\n",
    "x = torch.randn((1, channels, 64, 64))\n",
    "_, _, h, w = x.shape\n",
    "# we want a vector of shape 1, 8, 32, 32\n",
    "x = rearrange(x, \"b c h w -> b (h w) c\") # shape = [1, 4096, 8]\n",
    "x = rearrange(x, \"b (hw r) c -> b hw (c r)\", r=r) # shape = [1, 1024, 32]\n",
    "reducer = nn.Linear(channels*r, channels)\n",
    "x = reducer(x) # shape = [1, 1024, 8]\n",
    "half_r = r // 2\n",
    "x = rearrange(x, \"b (h w) c -> b c h w\", h=h//half_r) # shape = [1, 8, 32, 32]"
   ]
  },
  {
   "cell_type": "markdown",
   "metadata": {},
   "source": [
    "We have reduced the spatial size by `r=4`, so by `2` on each dimension (`height` and `width`). If you think about it, you can use a convolution layer with a `kernel_size=r` and a `stride=r` to achieve the same effect. \n",
    "\n",
    "Since the attention is equal to `softmax((QK^T/scale)V)`, we need to compute `K` and `V` using the reduced tensor otherwise, shapes won't match. `Q \\in NxC, K \\in (N/R)xC, V \\in (N/R)xC`, we can use PyTorch's `MultiheadAttention` to compute the attention."
   ]
  },
  {
   "cell_type": "code",
   "execution_count": 4,
   "metadata": {},
   "outputs": [
    {
     "data": {
      "text/plain": [
       "torch.Size([1, 8, 64, 64])"
      ]
     },
     "execution_count": 4,
     "metadata": {},
     "output_type": "execute_result"
    }
   ],
   "source": [
    "class EfficientMultiHeadAttention(nn.Module):\n",
    "    def __init__(self, channels: int, reduction_ratio: int = 1, num_heads: int = 8):\n",
    "        super().__init__()\n",
    "        self.reducer = nn.Sequential(\n",
    "            nn.Conv2d(\n",
    "                channels, channels, kernel_size=reduction_ratio, stride=reduction_ratio\n",
    "            ),\n",
    "            LayerNorm2d(channels),\n",
    "        )\n",
    "        self.att = nn.MultiheadAttention(\n",
    "            channels, num_heads=num_heads, batch_first=True\n",
    "        )\n",
    "\n",
    "    def forward(self, x):\n",
    "        _, _, h, w = x.shape\n",
    "        reduced_x = self.reducer(x)\n",
    "        # attention needs tensor of shape (batch, sequence_length, channels)\n",
    "        reduced_x = rearrange(reduced_x, \"b c h w -> b (h w) c\")\n",
    "        x = rearrange(x, \"b c h w -> b (h w) c\")\n",
    "        out = self.att(x, reduced_x, reduced_x)[0]\n",
    "        # reshape it back to (batch, channels, height, width)\n",
    "        out = rearrange(out, \"b (h w) c -> b c h w\", h=h, w=w)\n",
    "        return out\n",
    "    \n",
    "x = torch.randn((1, channels, 64, 64))\n",
    "block = EfficientMultiHeadAttention(channels, reduction_ratio=r)\n",
    "block(x).shape"
   ]
  },
  {
   "cell_type": "markdown",
   "metadata": {},
   "source": [
    "#### MixMLP\n",
    "<img src=\"./images/Mix-FFN.png\"></img>\n",
    "\n",
    "The careful reader may have noticed we are not using positional encoding. SegFormer uses a `3x3` depth-wise conv. Quoting from the paper *We argue that positional encoding is not necessary for semantic segmentation. Instead, we introduce Mix-FFN which considers the effect of zero padding to leak location information*. I have no idea what it means, so we will take it for granted.\n",
    "\n",
    "I am pretty sure it's called **Mix** because it mixes information using the `3x3` conv.\n",
    "\n",
    "The layer is composed by a `dense layer` -> `3x3 depth-wise conv` -> `GELU` -> `dense layer`. Like in ViT, this is an inverse bottleneck layer, the information is expanded in the middle layer."
   ]
  },
  {
   "cell_type": "code",
   "execution_count": 5,
   "metadata": {},
   "outputs": [],
   "source": [
    "class MixMLP(nn.Sequential):\n",
    "    def __init__(self, channels: int, expansion: int = 4):\n",
    "        super().__init__(\n",
    "            # dense layer\n",
    "            nn.Conv2d(channels, channels, kernel_size=1),\n",
    "            # depth wise conv\n",
    "            nn.Conv2d(\n",
    "                channels,\n",
    "                channels * expansion,\n",
    "                kernel_size=3,\n",
    "                groups=channels,\n",
    "                padding=1,\n",
    "            ),\n",
    "            nn.GELU(),\n",
    "            # dense layer\n",
    "            nn.Conv2d(channels * expansion, channels, kernel_size=1),\n",
    "        )\n"
   ]
  },
  {
   "cell_type": "markdown",
   "metadata": {},
   "source": [
    "### Encoder (Transformer) Block\n",
    "\n",
    "<img src=\"./images/BlockCorrect.png\"></img>\n",
    "\n",
    "Let's put everything together and create our Encoder Block. We will follow a better (imho) naming convention, we call `SegFormerEncoderBlock` the part with the self attention and the mix-fpn and `SegFormerEncoderStage` the whole overlap patch merging + N x `SegFormerEncoderBlock`\n",
    "\n",
    "\n",
    "Very similar to `ViT`, we have skip connections and normalization layers + Stochastic Depth, also known as Drop Path, (I have an [article](https://towardsdatascience.com/implementing-stochastic-depth-drop-path-in-pytorch-291498c4a974) about it)."
   ]
  },
  {
   "cell_type": "code",
   "execution_count": 6,
   "metadata": {},
   "outputs": [
    {
     "data": {
      "text/plain": [
       "torch.Size([1, 8, 64, 64])"
      ]
     },
     "execution_count": 6,
     "metadata": {},
     "output_type": "execute_result"
    }
   ],
   "source": [
    "from torchvision.ops import StochasticDepth\n",
    "\n",
    "class ResidualAdd(nn.Module):\n",
    "    \"\"\"Just an util layer\"\"\"\n",
    "    def __init__(self, fn):\n",
    "        super().__init__()\n",
    "        self.fn = fn\n",
    "\n",
    "    def forward(self, x, **kwargs):\n",
    "        out = self.fn(x, **kwargs)\n",
    "        x = x + out\n",
    "        return x\n",
    "\n",
    "class SegFormerEncoderBlock(nn.Sequential):\n",
    "    def __init__(\n",
    "        self,\n",
    "        channels: int,\n",
    "        reduction_ratio: int = 1,\n",
    "        num_heads: int = 8,\n",
    "        mlp_expansion: int = 4,\n",
    "        drop_path_prob: float = .0\n",
    "    ):\n",
    "        super().__init__(\n",
    "            ResidualAdd(\n",
    "                nn.Sequential(\n",
    "                    LayerNorm2d(channels),\n",
    "                    EfficientMultiHeadAttention(channels, reduction_ratio, num_heads),\n",
    "                )\n",
    "            ),\n",
    "            ResidualAdd(\n",
    "                nn.Sequential(\n",
    "                    LayerNorm2d(channels),\n",
    "                    MixMLP(channels, expansion=mlp_expansion),\n",
    "                    StochasticDepth(p=drop_path_prob, mode=\"batch\")\n",
    "                )\n",
    "            ),\n",
    "        )\n",
    "\n",
    "\n",
    "x = torch.randn((1, channels, 64, 64))\n",
    "block = SegFormerEncoderBlock(channels, reduction_ratio=r)\n",
    "block(x).shape"
   ]
  },
  {
   "cell_type": "markdown",
   "metadata": {},
   "source": [
    "Okay, let's create a stage. I don't know why, they apply layer norm at the end, so we'll do the same :) "
   ]
  },
  {
   "cell_type": "code",
   "execution_count": 7,
   "metadata": {},
   "outputs": [],
   "source": [
    "from typing import List\n",
    "\n",
    "class SegFormerEncoderStage(nn.Sequential):\n",
    "    def __init__(\n",
    "        self,\n",
    "        in_channels: int,\n",
    "        out_channels: int,\n",
    "        patch_size: int,\n",
    "        overlap_size: int,\n",
    "        drop_probs: List[int],\n",
    "        depth: int = 2,\n",
    "        reduction_ratio: int = 1,\n",
    "        num_heads: int = 8,\n",
    "        mlp_expansion: int = 4,\n",
    "    ):\n",
    "        super().__init__()\n",
    "        self.overlap_patch_merge = OverlapPatchMerging(\n",
    "            in_channels, out_channels, patch_size, overlap_size,\n",
    "        )\n",
    "        self.blocks = nn.Sequential(\n",
    "            *[\n",
    "                SegFormerEncoderBlock(\n",
    "                    out_channels, reduction_ratio, num_heads, mlp_expansion, drop_probs[i]\n",
    "                )\n",
    "                for i in range(depth)\n",
    "            ]\n",
    "        )\n",
    "        self.norm = LayerNorm2d(out_channels)"
   ]
  },
  {
   "cell_type": "markdown",
   "metadata": {},
   "source": [
    "The final `SegFormerEncoder` is composed by multiple stages."
   ]
  },
  {
   "cell_type": "code",
   "execution_count": 8,
   "metadata": {},
   "outputs": [],
   "source": [
    "from typing import Iterable\n",
    "\n",
    "def chunks(data: Iterable, sizes: List[int]):\n",
    "    \"\"\"\n",
    "    Given an iterable, returns slices using sizes as indices\n",
    "    \"\"\"\n",
    "    curr = 0\n",
    "    for size in sizes:\n",
    "        chunk = data[curr: curr + size]\n",
    "        curr += size\n",
    "        yield chunk\n",
    "        \n",
    "class SegFormerEncoder(nn.Module):\n",
    "    def __init__(\n",
    "        self,\n",
    "        in_channels: int,\n",
    "        widths: List[int],\n",
    "        depths: List[int],\n",
    "        all_num_heads: List[int],\n",
    "        patch_sizes: List[int],\n",
    "        overlap_sizes: List[int],\n",
    "        reduction_ratios: List[int],\n",
    "        mlp_expansions: List[int],\n",
    "        drop_prob: float = .0\n",
    "    ):\n",
    "        super().__init__()\n",
    "        # create drop paths probabilities (one for each stage's block)\n",
    "        drop_probs =  [x.item() for x in torch.linspace(0, drop_prob, sum(depths))]\n",
    "        self.stages = nn.ModuleList(\n",
    "            [\n",
    "                SegFormerEncoderStage(*args)\n",
    "                for args in zip(\n",
    "                    [in_channels, *widths],\n",
    "                    widths,\n",
    "                    patch_sizes,\n",
    "                    overlap_sizes,\n",
    "                    chunks(drop_probs, sizes=depths),\n",
    "                    depths,\n",
    "                    reduction_ratios,\n",
    "                    all_num_heads,\n",
    "                    mlp_expansions\n",
    "                )\n",
    "            ]\n",
    "        )\n",
    "        \n",
    "    def forward(self, x):\n",
    "        features = []\n",
    "        for stage in self.stages:\n",
    "            x = stage(x)\n",
    "            features.append(x)\n",
    "        return features\n"
   ]
  },
  {
   "cell_type": "markdown",
   "metadata": {},
   "source": [
    "I've added the function `chunks` to keep the code clean. It works like this"
   ]
  },
  {
   "cell_type": "code",
   "execution_count": 9,
   "metadata": {},
   "outputs": [
    {
     "data": {
      "text/plain": [
       "[[1, 2], [3, 4, 5]]"
      ]
     },
     "execution_count": 9,
     "metadata": {},
     "output_type": "execute_result"
    }
   ],
   "source": [
    "data = [1,2,3,4,5]\n",
    "sizes = [2,3]\n",
    "list(chunks(data, sizes))"
   ]
  },
  {
   "cell_type": "markdown",
   "metadata": {},
   "source": [
    "It is handy since `drop_probs` is a list containing the drop path probabilities for each stage's block and we need to pass a list with the correct values to each stage. \n",
    "\n",
    "From the encoder, we return a list of inner features, one from each stage."
   ]
  },
  {
   "cell_type": "markdown",
   "metadata": {},
   "source": [
    "## Decoder / Neck\n",
    "\n",
    "Luckily, the decoder/neck's picture matches the original code. They called the decoder part `MLP Layer`.\n",
    "\n",
    "<img src=\"./images/DecoderBlock.png\" width=\"400px\"></img>\n",
    "\n",
    "What it does is very simple, it takes `F` features with sizes `batch, channels_i, height_i, width_i` and outputs `F'` features of the same spatial and channel size. The spatial size is fixed to `first_features_spatial_size / 4`. In our case, since our input is a `224x224` image, the output will be a `56x56` mask.\n",
    "\n",
    "So a single `SegFormerDecoderBlock` contains one upsample layer (for the spatial dimension) and one conv layer (for the channels). The `scale_factor` parameter is needed to tell it how much we want to upsample the feature."
   ]
  },
  {
   "cell_type": "code",
   "execution_count": 10,
   "metadata": {},
   "outputs": [],
   "source": [
    "class SegFormerDecoderBlock(nn.Sequential):\n",
    "    def __init__(self, in_channels: int, out_channels: int, scale_factor: int = 2):\n",
    "        super().__init__(\n",
    "            nn.UpsamplingBilinear2d(scale_factor=scale_factor),\n",
    "            nn.Conv2d(in_channels, out_channels, kernel_size=1),\n",
    "        )"
   ]
  },
  {
   "cell_type": "markdown",
   "metadata": {},
   "source": [
    "In this case, we don't have stages, so our `SegFormerDecoder` is just a list of blocks. It takes a list of features and returns a list of new features with the same spatial size and channels."
   ]
  },
  {
   "cell_type": "code",
   "execution_count": 11,
   "metadata": {},
   "outputs": [],
   "source": [
    "class SegFormerDecoder(nn.Module):\n",
    "    def __init__(self, out_channels: int, widths: List[int], scale_factors: List[int]):\n",
    "        super().__init__()\n",
    "        self.stages = nn.ModuleList(\n",
    "            [\n",
    "                SegFormerDecoderBlock(in_channels, out_channels, scale_factor)\n",
    "                for in_channels, scale_factor in zip(widths, scale_factors)\n",
    "            ]\n",
    "        )\n",
    "    \n",
    "    def forward(self, features):\n",
    "        new_features = []\n",
    "        for feature, stage in zip(features,self.stages):\n",
    "            x = stage(feature)\n",
    "            new_features.append(x)\n",
    "        return new_features"
   ]
  },
  {
   "cell_type": "markdown",
   "metadata": {},
   "source": [
    "## SegFormer Head\n",
    "\n",
    "<img src=\"./images/Head.png\" width=\"400px\"></img>\n",
    "\n",
    "\n",
    "We are almost there! The decoder's features are concatenated (remember they all have the same channels and spatial dimensions) on the channel axis. Then, they are passed to a segmentation head to reduce them from `channels * number of features` to `channels`. Finally, a dense layer outputs the final segmentation."
   ]
  },
  {
   "cell_type": "code",
   "execution_count": 12,
   "metadata": {},
   "outputs": [],
   "source": [
    "class SegFormerSegmentationHead(nn.Module):\n",
    "    def __init__(self, channels: int, num_classes: int, num_features: int = 4):\n",
    "        super().__init__()\n",
    "        self.fuse = nn.Sequential(\n",
    "            nn.Conv2d(channels * num_features, channels, kernel_size=1, bias=False),\n",
    "            nn.ReLU(), # why relu? Who knows\n",
    "            nn.BatchNorm2d(channels) # why batchnorm and not layer norm? Idk\n",
    "        )\n",
    "        self.predict = nn.Conv2d(channels, num_classes, kernel_size=1)\n",
    "\n",
    "    def forward(self, features):\n",
    "        x = torch.cat(features, dim=1)\n",
    "        x = self.fuse(x)\n",
    "        x = self.predict(x)\n",
    "        return x"
   ]
  },
  {
   "cell_type": "markdown",
   "metadata": {},
   "source": [
    "## SegFormer\n",
    "\n",
    "Well, our final model is just `encoder + decoder + head`. Easy peasy"
   ]
  },
  {
   "cell_type": "code",
   "execution_count": 13,
   "metadata": {},
   "outputs": [],
   "source": [
    "class SegFormer(nn.Module):\n",
    "    def __init__(\n",
    "        self,\n",
    "        in_channels: int,\n",
    "        widths: List[int],\n",
    "        depths: List[int],\n",
    "        all_num_heads: List[int],\n",
    "        patch_sizes: List[int],\n",
    "        overlap_sizes: List[int],\n",
    "        reduction_ratios: List[int],\n",
    "        mlp_expansions: List[int],\n",
    "        decoder_channels: int,\n",
    "        scale_factors: List[int],\n",
    "        num_classes: int,\n",
    "        drop_prob: float = 0.0,\n",
    "    ):\n",
    "\n",
    "        super().__init__()\n",
    "        self.encoder = SegFormerEncoder(\n",
    "            in_channels,\n",
    "            widths,\n",
    "            depths,\n",
    "            all_num_heads,\n",
    "            patch_sizes,\n",
    "            overlap_sizes,\n",
    "            reduction_ratios,\n",
    "            mlp_expansions,\n",
    "            drop_prob,\n",
    "        )\n",
    "        self.decoder = SegFormerDecoder(decoder_channels, widths[::-1], scale_factors)\n",
    "        self.head = SegFormerSegmentationHead(\n",
    "            decoder_channels, num_classes, num_features=len(widths)\n",
    "        )\n",
    "\n",
    "    def forward(self, x):\n",
    "        features = self.encoder(x)\n",
    "        features = self.decoder(features[::-1])\n",
    "        segmentation = self.head(features)\n",
    "        return segmentation"
   ]
  },
  {
   "cell_type": "markdown",
   "metadata": {},
   "source": [
    "Let's try it!"
   ]
  },
  {
   "cell_type": "code",
   "execution_count": 14,
   "metadata": {},
   "outputs": [
    {
     "data": {
      "text/plain": [
       "torch.Size([1, 100, 56, 56])"
      ]
     },
     "execution_count": 14,
     "metadata": {},
     "output_type": "execute_result"
    }
   ],
   "source": [
    "segformer = SegFormer(\n",
    "    in_channels=3,\n",
    "    widths=[64, 128, 256, 512],\n",
    "    depths=[3, 4, 6, 3],\n",
    "    all_num_heads=[1, 2, 4, 8],\n",
    "    patch_sizes=[7, 3, 3, 3],\n",
    "    overlap_sizes=[4, 2, 2, 2],\n",
    "    reduction_ratios=[8, 4, 2, 1],\n",
    "    mlp_expansions=[4, 4, 4, 4],\n",
    "    decoder_channels=256,\n",
    "    scale_factors=[8, 4, 2, 1],\n",
    "    num_classes=100,\n",
    ")\n",
    "\n",
    "segmentation = segformer(torch.randn((1, 3, 224, 224)))\n",
    "segmentation.shape # torch.Size([1, 100, 56, 56])"
   ]
  },
  {
   "cell_type": "markdown",
   "metadata": {},
   "source": [
    "The output is correct, we expect a mask of spatial shape `image_size // 4` and `224 // 4 = 56`.\n",
    "\n",
    "We did it! 🎉🎉🎉\n",
    "\n",
    "## Conclusions\n",
    "\n",
    "\n",
    "In this article we have seen, step by step, how to create SegFormer; a fast and efficient model for image segmentation.\n",
    "\n",
    "Thank you for reading it!\n",
    "\n",
    "Francesco"
   ]
  }
 ],
 "metadata": {
  "kernelspec": {
   "display_name": "Python 3",
   "language": "python",
   "name": "python3"
  },
  "language_info": {
   "codemirror_mode": {
    "name": "ipython",
    "version": 3
   },
   "file_extension": ".py",
   "mimetype": "text/x-python",
   "name": "python",
   "nbconvert_exporter": "python",
   "pygments_lexer": "ipython3",
   "version": "3.9.7"
  }
 },
 "nbformat": 4,
 "nbformat_minor": 2
}
